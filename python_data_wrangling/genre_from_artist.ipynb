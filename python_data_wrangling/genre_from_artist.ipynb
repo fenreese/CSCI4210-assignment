{
 "cells": [
  {
   "cell_type": "code",
   "execution_count": 1,
   "metadata": {},
   "outputs": [],
   "source": [
    "import pandas as pd"
   ]
  },
  {
   "cell_type": "code",
   "execution_count": 6,
   "metadata": {},
   "outputs": [],
   "source": [
    "import pylast\n",
    "import os\n",
    "\n",
    "from dotenv import dotenv_values"
   ]
  },
  {
   "cell_type": "code",
   "execution_count": 7,
   "metadata": {},
   "outputs": [],
   "source": [
    "config = dotenv_values(\".env\")"
   ]
  },
  {
   "cell_type": "markdown",
   "metadata": {},
   "source": [
    ".env file is in this format:\n",
    "\n",
    "```txt\n",
    "LFM_API_KEY=insert_lastfm_api_key_here\n",
    "LFM_THIS_SHITS_FIRE=insert_lastfm_shared_secret_here\n",
    "```\n",
    "\n",
    "You get both of these by registering an application with Last.fm [here](https://www.last.fm/api)."
   ]
  },
  {
   "cell_type": "code",
   "execution_count": 8,
   "metadata": {},
   "outputs": [],
   "source": [
    "API_KEY = config.get(\"LFM_API_KEY\")\n",
    "API_SECRET = config.get(\"LFM_THIS_SHITS_FIRE\")"
   ]
  },
  {
   "cell_type": "code",
   "execution_count": 10,
   "metadata": {},
   "outputs": [],
   "source": [
    "SESSION_KEY_FILE = os.path.join(os.path.expanduser(\"~\"), \".session_key\")\n",
    "network = pylast.LastFMNetwork(API_KEY, API_SECRET)\n",
    "if not os.path.exists(SESSION_KEY_FILE):\n",
    "    skg = pylast.SessionKeyGenerator(network)\n",
    "    url = skg.get_web_auth_url()\n",
    "\n",
    "    print(f\"Please authorize this script to access your account: {url}\\n\")\n",
    "    import time\n",
    "    import webbrowser\n",
    "\n",
    "    webbrowser.open(url)\n",
    "\n",
    "    while True:\n",
    "        try:\n",
    "            session_key = skg.get_web_auth_session_key(url)\n",
    "            with open(SESSION_KEY_FILE, \"w\") as f:\n",
    "                f.write(session_key)\n",
    "            break\n",
    "        except pylast.WSError:\n",
    "            time.sleep(1)\n",
    "else:\n",
    "    session_key = open(SESSION_KEY_FILE).read()\n",
    "\n",
    "network.session_key = session_key"
   ]
  },
  {
   "cell_type": "code",
   "execution_count": 2,
   "metadata": {},
   "outputs": [],
   "source": [
    "lfm_df = pd.read_csv(\"../lfm-1711558550.csv\")"
   ]
  },
  {
   "cell_type": "code",
   "execution_count": 12,
   "metadata": {},
   "outputs": [
    {
     "data": {
      "text/html": [
       "<div>\n",
       "<style scoped>\n",
       "    .dataframe tbody tr th:only-of-type {\n",
       "        vertical-align: middle;\n",
       "    }\n",
       "\n",
       "    .dataframe tbody tr th {\n",
       "        vertical-align: top;\n",
       "    }\n",
       "\n",
       "    .dataframe thead th {\n",
       "        text-align: right;\n",
       "    }\n",
       "</style>\n",
       "<table border=\"1\" class=\"dataframe\">\n",
       "  <thead>\n",
       "    <tr style=\"text-align: right;\">\n",
       "      <th></th>\n",
       "      <th>uts</th>\n",
       "      <th>utc_time</th>\n",
       "      <th>artist</th>\n",
       "      <th>artist_mbid</th>\n",
       "      <th>album</th>\n",
       "      <th>album_mbid</th>\n",
       "      <th>track</th>\n",
       "      <th>track_mbid</th>\n",
       "    </tr>\n",
       "  </thead>\n",
       "  <tbody>\n",
       "    <tr>\n",
       "      <th>0</th>\n",
       "      <td>1711558550</td>\n",
       "      <td>27 Mar 2024, 16:55</td>\n",
       "      <td>Magdalena Bay</td>\n",
       "      <td>68c261d5-48c8-4ea9-9466-9fc908dc79bb</td>\n",
       "      <td>Unconditional</td>\n",
       "      <td>ac6d9d2f-d19a-4801-a0de-859576216d08</td>\n",
       "      <td>Unconditional</td>\n",
       "      <td>72705e92-11db-4b24-b19b-6cf177b5a4ff</td>\n",
       "    </tr>\n",
       "    <tr>\n",
       "      <th>1</th>\n",
       "      <td>1711558281</td>\n",
       "      <td>27 Mar 2024, 16:51</td>\n",
       "      <td>Magdalena Bay</td>\n",
       "      <td>68c261d5-48c8-4ea9-9466-9fc908dc79bb</td>\n",
       "      <td>All You Do</td>\n",
       "      <td>7f1b6c15-5d60-40d3-b9b7-cb0b5931cc54</td>\n",
       "      <td>All You Do</td>\n",
       "      <td>e6135f98-8fa8-4d4c-920a-1c59c0f8a4bb</td>\n",
       "    </tr>\n",
       "    <tr>\n",
       "      <th>2</th>\n",
       "      <td>1711558036</td>\n",
       "      <td>27 Mar 2024, 16:47</td>\n",
       "      <td>Magdalena Bay</td>\n",
       "      <td>68c261d5-48c8-4ea9-9466-9fc908dc79bb</td>\n",
       "      <td>Mercurial World</td>\n",
       "      <td>0850f24e-32a1-4280-a78c-f427a62a24f1</td>\n",
       "      <td>Secrets (Your Fire)</td>\n",
       "      <td>37090ca5-a224-4cda-a975-e2a3487cf1cb</td>\n",
       "    </tr>\n",
       "    <tr>\n",
       "      <th>3</th>\n",
       "      <td>1711557869</td>\n",
       "      <td>27 Mar 2024, 16:44</td>\n",
       "      <td>Magdalena Bay</td>\n",
       "      <td>68c261d5-48c8-4ea9-9466-9fc908dc79bb</td>\n",
       "      <td>mini mix vol. 3</td>\n",
       "      <td>ed2e9bd1-6c53-42f4-b563-9e76fb80eb84</td>\n",
       "      <td>Top Dog</td>\n",
       "      <td>172d1bd7-8630-48ad-b0ab-08da1bcaa441</td>\n",
       "    </tr>\n",
       "    <tr>\n",
       "      <th>4</th>\n",
       "      <td>1711557621</td>\n",
       "      <td>27 Mar 2024, 16:40</td>\n",
       "      <td>Magdalena Bay</td>\n",
       "      <td>68c261d5-48c8-4ea9-9466-9fc908dc79bb</td>\n",
       "      <td>A Little Rhythm and a Wicked Feeling</td>\n",
       "      <td>ba5bf46c-2a4e-4ac4-afe3-ab614330f1e7</td>\n",
       "      <td>Killshot</td>\n",
       "      <td>42070cda-6242-4985-94a8-90146b8a0b1d</td>\n",
       "    </tr>\n",
       "    <tr>\n",
       "      <th>...</th>\n",
       "      <td>...</td>\n",
       "      <td>...</td>\n",
       "      <td>...</td>\n",
       "      <td>...</td>\n",
       "      <td>...</td>\n",
       "      <td>...</td>\n",
       "      <td>...</td>\n",
       "      <td>...</td>\n",
       "    </tr>\n",
       "    <tr>\n",
       "      <th>93372</th>\n",
       "      <td>1483382458</td>\n",
       "      <td>02 Jan 2017, 18:40</td>\n",
       "      <td>Mac Miller</td>\n",
       "      <td>a0e8a1b1-5f8f-475a-a253-17415c17d0ff</td>\n",
       "      <td>Blue Slide Park (Commentary Version)</td>\n",
       "      <td>NaN</td>\n",
       "      <td>Smile Back</td>\n",
       "      <td>c0125dbe-a95b-43e0-98a1-83a7a0a33be9</td>\n",
       "    </tr>\n",
       "    <tr>\n",
       "      <th>93373</th>\n",
       "      <td>1483382201</td>\n",
       "      <td>02 Jan 2017, 18:36</td>\n",
       "      <td>Mac Miller</td>\n",
       "      <td>a0e8a1b1-5f8f-475a-a253-17415c17d0ff</td>\n",
       "      <td>Live From Space</td>\n",
       "      <td>dee46bb1-a40f-4208-8bcc-a8c31a67adbc</td>\n",
       "      <td>Earth (feat. Future)</td>\n",
       "      <td>NaN</td>\n",
       "    </tr>\n",
       "    <tr>\n",
       "      <th>93374</th>\n",
       "      <td>1483382010</td>\n",
       "      <td>02 Jan 2017, 18:33</td>\n",
       "      <td>Mac Miller</td>\n",
       "      <td>a0e8a1b1-5f8f-475a-a253-17415c17d0ff</td>\n",
       "      <td>Live From Space</td>\n",
       "      <td>dee46bb1-a40f-4208-8bcc-a8c31a67adbc</td>\n",
       "      <td>Black Bush</td>\n",
       "      <td>cd982188-80dc-4a52-96d6-e72dcdd15369</td>\n",
       "    </tr>\n",
       "    <tr>\n",
       "      <th>93375</th>\n",
       "      <td>1483381732</td>\n",
       "      <td>02 Jan 2017, 18:28</td>\n",
       "      <td>Mac Miller</td>\n",
       "      <td>a0e8a1b1-5f8f-475a-a253-17415c17d0ff</td>\n",
       "      <td>GO:OD AM</td>\n",
       "      <td>5974fd75-ff80-449e-8a80-98ce2ed59e5f</td>\n",
       "      <td>The Festival (feat. Little Dragon)</td>\n",
       "      <td>NaN</td>\n",
       "    </tr>\n",
       "    <tr>\n",
       "      <th>93376</th>\n",
       "      <td>1483381051</td>\n",
       "      <td>02 Jan 2017, 18:17</td>\n",
       "      <td>Mac Miller</td>\n",
       "      <td>a0e8a1b1-5f8f-475a-a253-17415c17d0ff</td>\n",
       "      <td>The Divine Feminine</td>\n",
       "      <td>a98fb1a5-6eb4-4ab8-a004-b446e8da4cfe</td>\n",
       "      <td>Congratulations (feat. Bilal)</td>\n",
       "      <td>NaN</td>\n",
       "    </tr>\n",
       "  </tbody>\n",
       "</table>\n",
       "<p>93377 rows × 8 columns</p>\n",
       "</div>"
      ],
      "text/plain": [
       "              uts            utc_time         artist  \\\n",
       "0      1711558550  27 Mar 2024, 16:55  Magdalena Bay   \n",
       "1      1711558281  27 Mar 2024, 16:51  Magdalena Bay   \n",
       "2      1711558036  27 Mar 2024, 16:47  Magdalena Bay   \n",
       "3      1711557869  27 Mar 2024, 16:44  Magdalena Bay   \n",
       "4      1711557621  27 Mar 2024, 16:40  Magdalena Bay   \n",
       "...           ...                 ...            ...   \n",
       "93372  1483382458  02 Jan 2017, 18:40     Mac Miller   \n",
       "93373  1483382201  02 Jan 2017, 18:36     Mac Miller   \n",
       "93374  1483382010  02 Jan 2017, 18:33     Mac Miller   \n",
       "93375  1483381732  02 Jan 2017, 18:28     Mac Miller   \n",
       "93376  1483381051  02 Jan 2017, 18:17     Mac Miller   \n",
       "\n",
       "                                artist_mbid  \\\n",
       "0      68c261d5-48c8-4ea9-9466-9fc908dc79bb   \n",
       "1      68c261d5-48c8-4ea9-9466-9fc908dc79bb   \n",
       "2      68c261d5-48c8-4ea9-9466-9fc908dc79bb   \n",
       "3      68c261d5-48c8-4ea9-9466-9fc908dc79bb   \n",
       "4      68c261d5-48c8-4ea9-9466-9fc908dc79bb   \n",
       "...                                     ...   \n",
       "93372  a0e8a1b1-5f8f-475a-a253-17415c17d0ff   \n",
       "93373  a0e8a1b1-5f8f-475a-a253-17415c17d0ff   \n",
       "93374  a0e8a1b1-5f8f-475a-a253-17415c17d0ff   \n",
       "93375  a0e8a1b1-5f8f-475a-a253-17415c17d0ff   \n",
       "93376  a0e8a1b1-5f8f-475a-a253-17415c17d0ff   \n",
       "\n",
       "                                      album  \\\n",
       "0                             Unconditional   \n",
       "1                                All You Do   \n",
       "2                           Mercurial World   \n",
       "3                           mini mix vol. 3   \n",
       "4      A Little Rhythm and a Wicked Feeling   \n",
       "...                                     ...   \n",
       "93372  Blue Slide Park (Commentary Version)   \n",
       "93373                       Live From Space   \n",
       "93374                       Live From Space   \n",
       "93375                              GO:OD AM   \n",
       "93376                   The Divine Feminine   \n",
       "\n",
       "                                 album_mbid  \\\n",
       "0      ac6d9d2f-d19a-4801-a0de-859576216d08   \n",
       "1      7f1b6c15-5d60-40d3-b9b7-cb0b5931cc54   \n",
       "2      0850f24e-32a1-4280-a78c-f427a62a24f1   \n",
       "3      ed2e9bd1-6c53-42f4-b563-9e76fb80eb84   \n",
       "4      ba5bf46c-2a4e-4ac4-afe3-ab614330f1e7   \n",
       "...                                     ...   \n",
       "93372                                   NaN   \n",
       "93373  dee46bb1-a40f-4208-8bcc-a8c31a67adbc   \n",
       "93374  dee46bb1-a40f-4208-8bcc-a8c31a67adbc   \n",
       "93375  5974fd75-ff80-449e-8a80-98ce2ed59e5f   \n",
       "93376  a98fb1a5-6eb4-4ab8-a004-b446e8da4cfe   \n",
       "\n",
       "                                    track  \\\n",
       "0                           Unconditional   \n",
       "1                              All You Do   \n",
       "2                     Secrets (Your Fire)   \n",
       "3                                 Top Dog   \n",
       "4                                Killshot   \n",
       "...                                   ...   \n",
       "93372                          Smile Back   \n",
       "93373                Earth (feat. Future)   \n",
       "93374                          Black Bush   \n",
       "93375  The Festival (feat. Little Dragon)   \n",
       "93376       Congratulations (feat. Bilal)   \n",
       "\n",
       "                                 track_mbid  \n",
       "0      72705e92-11db-4b24-b19b-6cf177b5a4ff  \n",
       "1      e6135f98-8fa8-4d4c-920a-1c59c0f8a4bb  \n",
       "2      37090ca5-a224-4cda-a975-e2a3487cf1cb  \n",
       "3      172d1bd7-8630-48ad-b0ab-08da1bcaa441  \n",
       "4      42070cda-6242-4985-94a8-90146b8a0b1d  \n",
       "...                                     ...  \n",
       "93372  c0125dbe-a95b-43e0-98a1-83a7a0a33be9  \n",
       "93373                                   NaN  \n",
       "93374  cd982188-80dc-4a52-96d6-e72dcdd15369  \n",
       "93375                                   NaN  \n",
       "93376                                   NaN  \n",
       "\n",
       "[93377 rows x 8 columns]"
      ]
     },
     "execution_count": 12,
     "metadata": {},
     "output_type": "execute_result"
    }
   ],
   "source": [
    "lfm_df"
   ]
  },
  {
   "cell_type": "code",
   "execution_count": null,
   "metadata": {},
   "outputs": [],
   "source": [
    "unconditional = network.get_track_by_mbid(\"72705e92-11db-4b24-b19b-6cf177b5a4ff\") #DOES NOT WORK"
   ]
  },
  {
   "cell_type": "code",
   "execution_count": null,
   "metadata": {},
   "outputs": [],
   "source": [
    "secrets = network.get_track_by_mbid(\"37090ca5-a224-4cda-a975-e2a3487cf1cb\") # DOES NOT WORK"
   ]
  },
  {
   "cell_type": "code",
   "execution_count": 49,
   "metadata": {},
   "outputs": [],
   "source": [
    "unconditional_but_working = network.get_track(artist=\"Magdalena Bay\", title=\"Unconditional\") # WORKS?????????????"
   ]
  },
  {
   "cell_type": "code",
   "execution_count": 50,
   "metadata": {},
   "outputs": [
    {
     "data": {
      "text/plain": [
       "pylast.Track('Magdalena Bay', 'Unconditional', pylast.LastFMNetwork('8b1f7302a02d447bb3c850cd045f1648', '84ddd932c36dc5860c7ffefdab2e795d', 'lPf_m1LVP3spsQ2P-7SBEpD8mXSDFjRh', '', ''))"
      ]
     },
     "execution_count": 50,
     "metadata": {},
     "output_type": "execute_result"
    }
   ],
   "source": [
    "unconditional_but_working"
   ]
  },
  {
   "cell_type": "code",
   "execution_count": 53,
   "metadata": {},
   "outputs": [],
   "source": [
    "the_genre = unconditional_but_working.get_top_tags(limit=1)[0].item.get_name()"
   ]
  },
  {
   "cell_type": "code",
   "execution_count": 54,
   "metadata": {},
   "outputs": [
    {
     "data": {
      "text/plain": [
       "str"
      ]
     },
     "execution_count": 54,
     "metadata": {},
     "output_type": "execute_result"
    }
   ],
   "source": [
    "type(the_genre)"
   ]
  },
  {
   "cell_type": "code",
   "execution_count": 52,
   "metadata": {},
   "outputs": [
    {
     "data": {
      "text/plain": [
       "'synthpop'"
      ]
     },
     "execution_count": 52,
     "metadata": {},
     "output_type": "execute_result"
    }
   ],
   "source": [
    "network.get_track(artist=\"Magdalena Bay\", title=\"Unconditional\").get_top_tags(limit=1)[0].item.get_name()"
   ]
  },
  {
   "cell_type": "code",
   "execution_count": 33,
   "metadata": {},
   "outputs": [],
   "source": [
    "unique_tracks = lfm_df.groupby(['artist','track']).size().reset_index().rename(columns={0:'count'})"
   ]
  },
  {
   "cell_type": "code",
   "execution_count": 34,
   "metadata": {},
   "outputs": [
    {
     "data": {
      "text/html": [
       "<div>\n",
       "<style scoped>\n",
       "    .dataframe tbody tr th:only-of-type {\n",
       "        vertical-align: middle;\n",
       "    }\n",
       "\n",
       "    .dataframe tbody tr th {\n",
       "        vertical-align: top;\n",
       "    }\n",
       "\n",
       "    .dataframe thead th {\n",
       "        text-align: right;\n",
       "    }\n",
       "</style>\n",
       "<table border=\"1\" class=\"dataframe\">\n",
       "  <thead>\n",
       "    <tr style=\"text-align: right;\">\n",
       "      <th></th>\n",
       "      <th>artist</th>\n",
       "      <th>track</th>\n",
       "      <th>count</th>\n",
       "    </tr>\n",
       "  </thead>\n",
       "  <tbody>\n",
       "    <tr>\n",
       "      <th>0</th>\n",
       "      <td>\"Weird Al\" Yankovic</td>\n",
       "      <td>I'll Sue Ya</td>\n",
       "      <td>1</td>\n",
       "    </tr>\n",
       "    <tr>\n",
       "      <th>1</th>\n",
       "      <td>'Til Tuesday</td>\n",
       "      <td>Voices Carry</td>\n",
       "      <td>8</td>\n",
       "    </tr>\n",
       "    <tr>\n",
       "      <th>2</th>\n",
       "      <td>'Til Tuesday</td>\n",
       "      <td>Voices Carry - Single Mix</td>\n",
       "      <td>2</td>\n",
       "    </tr>\n",
       "    <tr>\n",
       "      <th>3</th>\n",
       "      <td>(G)I-DLE</td>\n",
       "      <td>$$$</td>\n",
       "      <td>29</td>\n",
       "    </tr>\n",
       "    <tr>\n",
       "      <th>4</th>\n",
       "      <td>(G)I-DLE</td>\n",
       "      <td>ALREADY</td>\n",
       "      <td>2</td>\n",
       "    </tr>\n",
       "    <tr>\n",
       "      <th>...</th>\n",
       "      <td>...</td>\n",
       "      <td>...</td>\n",
       "      <td>...</td>\n",
       "    </tr>\n",
       "    <tr>\n",
       "      <th>18491</th>\n",
       "      <td>이달의 소녀 오드아이써클</td>\n",
       "      <td>Chaotic</td>\n",
       "      <td>1</td>\n",
       "    </tr>\n",
       "    <tr>\n",
       "      <th>18492</th>\n",
       "      <td>이달의 소녀 오드아이써클</td>\n",
       "      <td>Girl Front</td>\n",
       "      <td>1</td>\n",
       "    </tr>\n",
       "    <tr>\n",
       "      <th>18493</th>\n",
       "      <td>이달의 소녀 오드아이써클</td>\n",
       "      <td>LOONATIC</td>\n",
       "      <td>1</td>\n",
       "    </tr>\n",
       "    <tr>\n",
       "      <th>18494</th>\n",
       "      <td>이달의 소녀 오드아이써클</td>\n",
       "      <td>Starlight</td>\n",
       "      <td>1</td>\n",
       "    </tr>\n",
       "    <tr>\n",
       "      <th>18495</th>\n",
       "      <td>태양</td>\n",
       "      <td>눈,코,입 (EYES, NOSE, LIPS)</td>\n",
       "      <td>1</td>\n",
       "    </tr>\n",
       "  </tbody>\n",
       "</table>\n",
       "<p>18496 rows × 3 columns</p>\n",
       "</div>"
      ],
      "text/plain": [
       "                    artist                      track  count\n",
       "0      \"Weird Al\" Yankovic                I'll Sue Ya      1\n",
       "1             'Til Tuesday               Voices Carry      8\n",
       "2             'Til Tuesday  Voices Carry - Single Mix      2\n",
       "3                 (G)I-DLE                        $$$     29\n",
       "4                 (G)I-DLE                    ALREADY      2\n",
       "...                    ...                        ...    ...\n",
       "18491        이달의 소녀 오드아이써클                    Chaotic      1\n",
       "18492        이달의 소녀 오드아이써클                 Girl Front      1\n",
       "18493        이달의 소녀 오드아이써클                   LOONATIC      1\n",
       "18494        이달의 소녀 오드아이써클                  Starlight      1\n",
       "18495                   태양   눈,코,입 (EYES, NOSE, LIPS)      1\n",
       "\n",
       "[18496 rows x 3 columns]"
      ]
     },
     "execution_count": 34,
     "metadata": {},
     "output_type": "execute_result"
    }
   ],
   "source": [
    "unique_tracks"
   ]
  },
  {
   "cell_type": "code",
   "execution_count": 43,
   "metadata": {},
   "outputs": [],
   "source": [
    "unique_tracks1 = unique_tracks[:4624].copy()\n",
    "unique_tracks2 = unique_tracks[4624:9248].copy()\n",
    "unique_tracks3 = unique_tracks[9248:13872].copy()\n",
    "unique_tracks4 = unique_tracks[13872:].copy()"
   ]
  },
  {
   "cell_type": "code",
   "execution_count": 62,
   "metadata": {},
   "outputs": [],
   "source": [
    "from pylast import NetworkError, WSError"
   ]
  },
  {
   "cell_type": "code",
   "execution_count": 55,
   "metadata": {},
   "outputs": [],
   "source": [
    "def top_tag(row) -> str | None:\n",
    "    try:\n",
    "        return network.get_track(artist=row[\"artist\"], title=row[\"track\"]).get_top_tags(limit=1)[0].item.get_name()\n",
    "    except:\n",
    "        return None"
   ]
  },
  {
   "cell_type": "code",
   "execution_count": 56,
   "metadata": {},
   "outputs": [],
   "source": [
    "unique_tracks1[\"genre\"] = unique_tracks1.apply(top_tag, axis=1)"
   ]
  },
  {
   "cell_type": "code",
   "execution_count": 57,
   "metadata": {},
   "outputs": [
    {
     "data": {
      "text/html": [
       "<div>\n",
       "<style scoped>\n",
       "    .dataframe tbody tr th:only-of-type {\n",
       "        vertical-align: middle;\n",
       "    }\n",
       "\n",
       "    .dataframe tbody tr th {\n",
       "        vertical-align: top;\n",
       "    }\n",
       "\n",
       "    .dataframe thead th {\n",
       "        text-align: right;\n",
       "    }\n",
       "</style>\n",
       "<table border=\"1\" class=\"dataframe\">\n",
       "  <thead>\n",
       "    <tr style=\"text-align: right;\">\n",
       "      <th></th>\n",
       "      <th>artist</th>\n",
       "      <th>track</th>\n",
       "      <th>count</th>\n",
       "      <th>genre</th>\n",
       "    </tr>\n",
       "  </thead>\n",
       "  <tbody>\n",
       "    <tr>\n",
       "      <th>0</th>\n",
       "      <td>\"Weird Al\" Yankovic</td>\n",
       "      <td>I'll Sue Ya</td>\n",
       "      <td>1</td>\n",
       "      <td>comedy</td>\n",
       "    </tr>\n",
       "    <tr>\n",
       "      <th>1</th>\n",
       "      <td>'Til Tuesday</td>\n",
       "      <td>Voices Carry</td>\n",
       "      <td>8</td>\n",
       "      <td>80s</td>\n",
       "    </tr>\n",
       "    <tr>\n",
       "      <th>2</th>\n",
       "      <td>'Til Tuesday</td>\n",
       "      <td>Voices Carry - Single Mix</td>\n",
       "      <td>2</td>\n",
       "      <td>None</td>\n",
       "    </tr>\n",
       "    <tr>\n",
       "      <th>3</th>\n",
       "      <td>(G)I-DLE</td>\n",
       "      <td>$$$</td>\n",
       "      <td>29</td>\n",
       "      <td>k-pop</td>\n",
       "    </tr>\n",
       "    <tr>\n",
       "      <th>4</th>\n",
       "      <td>(G)I-DLE</td>\n",
       "      <td>ALREADY</td>\n",
       "      <td>2</td>\n",
       "      <td>Awesome</td>\n",
       "    </tr>\n",
       "    <tr>\n",
       "      <th>...</th>\n",
       "      <td>...</td>\n",
       "      <td>...</td>\n",
       "      <td>...</td>\n",
       "      <td>...</td>\n",
       "    </tr>\n",
       "    <tr>\n",
       "      <th>4619</th>\n",
       "      <td>Flying Lotus</td>\n",
       "      <td>Table Tennis</td>\n",
       "      <td>1</td>\n",
       "      <td>electronic</td>\n",
       "    </tr>\n",
       "    <tr>\n",
       "      <th>4620</th>\n",
       "      <td>Flying Lotus</td>\n",
       "      <td>Takashi</td>\n",
       "      <td>2</td>\n",
       "      <td>electronic</td>\n",
       "    </tr>\n",
       "    <tr>\n",
       "      <th>4621</th>\n",
       "      <td>Flying Lotus</td>\n",
       "      <td>Tesla</td>\n",
       "      <td>1</td>\n",
       "      <td>jazz</td>\n",
       "    </tr>\n",
       "    <tr>\n",
       "      <th>4622</th>\n",
       "      <td>Flying Lotus</td>\n",
       "      <td>Tesla - Original Album Version</td>\n",
       "      <td>1</td>\n",
       "      <td>None</td>\n",
       "    </tr>\n",
       "    <tr>\n",
       "      <th>4623</th>\n",
       "      <td>Flying Lotus</td>\n",
       "      <td>The Boys Who Died In Their Sleep</td>\n",
       "      <td>1</td>\n",
       "      <td>electronic</td>\n",
       "    </tr>\n",
       "  </tbody>\n",
       "</table>\n",
       "<p>4624 rows × 4 columns</p>\n",
       "</div>"
      ],
      "text/plain": [
       "                   artist                             track  count       genre\n",
       "0     \"Weird Al\" Yankovic                       I'll Sue Ya      1      comedy\n",
       "1            'Til Tuesday                      Voices Carry      8         80s\n",
       "2            'Til Tuesday         Voices Carry - Single Mix      2        None\n",
       "3                (G)I-DLE                               $$$     29       k-pop\n",
       "4                (G)I-DLE                           ALREADY      2     Awesome\n",
       "...                   ...                               ...    ...         ...\n",
       "4619         Flying Lotus                      Table Tennis      1  electronic\n",
       "4620         Flying Lotus                           Takashi      2  electronic\n",
       "4621         Flying Lotus                             Tesla      1        jazz\n",
       "4622         Flying Lotus    Tesla - Original Album Version      1        None\n",
       "4623         Flying Lotus  The Boys Who Died In Their Sleep      1  electronic\n",
       "\n",
       "[4624 rows x 4 columns]"
      ]
     },
     "execution_count": 57,
     "metadata": {},
     "output_type": "execute_result"
    }
   ],
   "source": [
    "unique_tracks1"
   ]
  },
  {
   "cell_type": "code",
   "execution_count": 58,
   "metadata": {},
   "outputs": [
    {
     "data": {
      "text/plain": [
       "5500"
      ]
     },
     "execution_count": 58,
     "metadata": {},
     "output_type": "execute_result"
    }
   ],
   "source": [
    "lfm_df[\"artist\"].nunique()"
   ]
  },
  {
   "cell_type": "code",
   "execution_count": 59,
   "metadata": {},
   "outputs": [],
   "source": [
    "unique_artists = lfm_df.groupby('artist').size().reset_index().rename(columns={0:'count'})"
   ]
  },
  {
   "cell_type": "code",
   "execution_count": 60,
   "metadata": {},
   "outputs": [
    {
     "data": {
      "text/html": [
       "<div>\n",
       "<style scoped>\n",
       "    .dataframe tbody tr th:only-of-type {\n",
       "        vertical-align: middle;\n",
       "    }\n",
       "\n",
       "    .dataframe tbody tr th {\n",
       "        vertical-align: top;\n",
       "    }\n",
       "\n",
       "    .dataframe thead th {\n",
       "        text-align: right;\n",
       "    }\n",
       "</style>\n",
       "<table border=\"1\" class=\"dataframe\">\n",
       "  <thead>\n",
       "    <tr style=\"text-align: right;\">\n",
       "      <th></th>\n",
       "      <th>artist</th>\n",
       "      <th>count</th>\n",
       "    </tr>\n",
       "  </thead>\n",
       "  <tbody>\n",
       "    <tr>\n",
       "      <th>0</th>\n",
       "      <td>\"Weird Al\" Yankovic</td>\n",
       "      <td>1</td>\n",
       "    </tr>\n",
       "    <tr>\n",
       "      <th>1</th>\n",
       "      <td>'Til Tuesday</td>\n",
       "      <td>10</td>\n",
       "    </tr>\n",
       "    <tr>\n",
       "      <th>2</th>\n",
       "      <td>(G)I-DLE</td>\n",
       "      <td>1725</td>\n",
       "    </tr>\n",
       "    <tr>\n",
       "      <th>3</th>\n",
       "      <td>(K)NoW_NAME</td>\n",
       "      <td>1</td>\n",
       "    </tr>\n",
       "    <tr>\n",
       "      <th>4</th>\n",
       "      <td>(sic)boy</td>\n",
       "      <td>2</td>\n",
       "    </tr>\n",
       "    <tr>\n",
       "      <th>...</th>\n",
       "      <td>...</td>\n",
       "      <td>...</td>\n",
       "    </tr>\n",
       "    <tr>\n",
       "      <th>5495</th>\n",
       "      <td>여자친구</td>\n",
       "      <td>2</td>\n",
       "    </tr>\n",
       "    <tr>\n",
       "      <th>5496</th>\n",
       "      <td>우리집</td>\n",
       "      <td>1</td>\n",
       "    </tr>\n",
       "    <tr>\n",
       "      <th>5497</th>\n",
       "      <td>이달의 소녀</td>\n",
       "      <td>1</td>\n",
       "    </tr>\n",
       "    <tr>\n",
       "      <th>5498</th>\n",
       "      <td>이달의 소녀 오드아이써클</td>\n",
       "      <td>4</td>\n",
       "    </tr>\n",
       "    <tr>\n",
       "      <th>5499</th>\n",
       "      <td>태양</td>\n",
       "      <td>1</td>\n",
       "    </tr>\n",
       "  </tbody>\n",
       "</table>\n",
       "<p>5500 rows × 2 columns</p>\n",
       "</div>"
      ],
      "text/plain": [
       "                   artist  count\n",
       "0     \"Weird Al\" Yankovic      1\n",
       "1            'Til Tuesday     10\n",
       "2                (G)I-DLE   1725\n",
       "3             (K)NoW_NAME      1\n",
       "4                (sic)boy      2\n",
       "...                   ...    ...\n",
       "5495                 여자친구      2\n",
       "5496                  우리집      1\n",
       "5497               이달의 소녀      1\n",
       "5498        이달의 소녀 오드아이써클      4\n",
       "5499                   태양      1\n",
       "\n",
       "[5500 rows x 2 columns]"
      ]
     },
     "execution_count": 60,
     "metadata": {},
     "output_type": "execute_result"
    }
   ],
   "source": [
    "unique_artists"
   ]
  },
  {
   "cell_type": "code",
   "execution_count": 70,
   "metadata": {},
   "outputs": [
    {
     "data": {
      "text/plain": [
       "'synthpop'"
      ]
     },
     "execution_count": 70,
     "metadata": {},
     "output_type": "execute_result"
    }
   ],
   "source": [
    "network.get_artist(\"Magdalena Bay\").get_top_tags(limit=1)[0].item.get_name()"
   ]
  },
  {
   "cell_type": "code",
   "execution_count": 74,
   "metadata": {},
   "outputs": [],
   "source": [
    "def artist_top_tag(row):\n",
    "    try:\n",
    "        return network.get_artist(artist_name=row[\"artist\"]).get_top_tags(limit=1)[0].item.get_name()\n",
    "    except WSError as e:\n",
    "        if e.get_id() in [29, 26]:\n",
    "            raise e\n",
    "        else: \n",
    "            return None\n",
    "    except:\n",
    "        return None"
   ]
  },
  {
   "cell_type": "code",
   "execution_count": 72,
   "metadata": {},
   "outputs": [],
   "source": [
    "from tqdm import tqdm"
   ]
  },
  {
   "cell_type": "code",
   "execution_count": 65,
   "metadata": {},
   "outputs": [],
   "source": [
    "tqdm.pandas()"
   ]
  },
  {
   "cell_type": "code",
   "execution_count": 75,
   "metadata": {},
   "outputs": [
    {
     "name": "stderr",
     "output_type": "stream",
     "text": [
      "100%|██████████| 5500/5500 [28:38<00:00,  3.20it/s]  \n"
     ]
    }
   ],
   "source": [
    "unique_artists[\"genre\"] = unique_artists.progress_apply(artist_top_tag, axis=1)"
   ]
  },
  {
   "cell_type": "code",
   "execution_count": 77,
   "metadata": {},
   "outputs": [],
   "source": [
    "unique_artists.to_csv(\"../artist_genre.csv\")"
   ]
  }
 ],
 "metadata": {
  "kernelspec": {
   "display_name": "venv",
   "language": "python",
   "name": "python3"
  },
  "language_info": {
   "codemirror_mode": {
    "name": "ipython",
    "version": 3
   },
   "file_extension": ".py",
   "mimetype": "text/x-python",
   "name": "python",
   "nbconvert_exporter": "python",
   "pygments_lexer": "ipython3",
   "version": "3.11.8"
  }
 },
 "nbformat": 4,
 "nbformat_minor": 2
}
